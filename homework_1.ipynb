{
 "cells": [
  {
   "cell_type": "markdown",
   "metadata": {},
   "source": [
    "# Первое домашнее задание по курсу Основы АД в МО\n",
    "Во всех задачах разрешается заводить любые промежуточные переменные, не указанные в условии, которые вам могут понадобиться."
   ]
  },
  {
   "cell_type": "markdown",
   "metadata": {},
   "source": [
    "## 1. Градус Фаренгейта\n",
    "В некоторых странах используется метрическая система, отличная от нашей. Например, в США температуру принято измерять в градусах [Фаренгейта](https://ru.wikipedia.org/wiki/%D0%93%D1%80%D0%B0%D0%B4%D1%83%D1%81_%D0%A4%D0%B0%D1%80%D0%B5%D0%BD%D0%B3%D0%B5%D0%B9%D1%82%D0%B0), а не Цельсия. Напишите программу, которая будет переводить температуру из одной системы в другую.\n",
    "1. Заведите переменную, хранящую температуру по Фаренгейту.\n",
    "2. Выведите на экран температуру в градусах Цельсия."
   ]
  },
  {
   "cell_type": "code",
   "execution_count": 1,
   "metadata": {},
   "outputs": [
    {
     "name": "stdout",
     "output_type": "stream",
     "text": [
      "Fahrenheit temperature: 12\n",
      "is equivalent to -36.0 in Celsius\n"
     ]
    }
   ],
   "source": [
    "f = int(input(\"Fahrenheit temperature: \"))\n",
    "c = str((f - 32) / (5/9))\n",
    "print(\"is equivalent to \" + c + \" in Celsius\")"
   ]
  },
  {
   "cell_type": "markdown",
   "metadata": {},
   "source": [
    "## 2. Say Hi\n",
    "Заведите переменную `name`, которая будет хранить ваше имя, и `age`, которая будет хранить ваш возраст.\n",
    "\n",
    "Выведите на экран строку формата `Привет, меня зовут <имя>, мне <возраст> лет.`.\n",
    "\n",
    "Пример вывода:\n",
    "\n",
    "```\n",
    "Привет, меня зовут Питон, мне 28 лет.\n",
    "```"
   ]
  },
  {
   "cell_type": "code",
   "execution_count": 2,
   "metadata": {},
   "outputs": [
    {
     "name": "stdout",
     "output_type": "stream",
     "text": [
      "Please enter your name: A.\n",
      "How old are you?20\n",
      "Привет, меня зовут A., мне 20 лет.\n"
     ]
    }
   ],
   "source": [
    "name = input(\"Please enter your name: \")\n",
    "age = input(\"How old are you?\")\n",
    "print(\"Привет, меня зовут \" + name + \", мне \" + age + \" лет.\")"
   ]
  },
  {
   "cell_type": "markdown",
   "metadata": {},
   "source": [
    "## 3. Площадь и периметр прямоугольника\n",
    "![](http://infofaq.ru/wp-content/uploads/2016/10/prjamoug-300x178.png)\n",
    "1. Заведите две переменные для длин сторон прямоугольника, задайте им произвольные значения и выведите переменные на экран.\n",
    "2. Выведите на экран значения площади и периметра прямоугольника в формате:\n",
    "```\n",
    "Периметр прямоугольника: <число>\n",
    "Площадь прямоугольника: <число>\n",
    "```"
   ]
  },
  {
   "cell_type": "code",
   "execution_count": 3,
   "metadata": {},
   "outputs": [
    {
     "name": "stdout",
     "output_type": "stream",
     "text": [
      "The length of the rectange is: 12\n",
      "The width of the rectangle is: 6\n",
      "Периметр прямоугольника: 36\n",
      "Площадь прямоугольника: 72\n"
     ]
    }
   ],
   "source": [
    "a = int(input(\"The length of the rectange is: \"))\n",
    "b = int(input(\"The width of the rectangle is: \"))\n",
    "per = (a + b) * 2\n",
    "square = a * b\n",
    "print(\"Периметр прямоугольника: \" + str(per))\n",
    "print(\"Площадь прямоугольника: \" + str(square))"
   ]
  },
  {
   "cell_type": "code",
   "execution_count": null,
   "metadata": {},
   "outputs": [],
   "source": []
  }
 ],
 "metadata": {
  "kernelspec": {
   "display_name": "Python 3",
   "language": "python",
   "name": "python3"
  },
  "language_info": {
   "codemirror_mode": {
    "name": "ipython",
    "version": 3
   },
   "file_extension": ".py",
   "mimetype": "text/x-python",
   "name": "python",
   "nbconvert_exporter": "python",
   "pygments_lexer": "ipython3",
   "version": "3.8.5"
  }
 },
 "nbformat": 4,
 "nbformat_minor": 2
}
